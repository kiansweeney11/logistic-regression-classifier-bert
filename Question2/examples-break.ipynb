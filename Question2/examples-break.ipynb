{
 "cells": [
  {
   "cell_type": "code",
   "execution_count": 1,
   "id": "905e7dee",
   "metadata": {},
   "outputs": [],
   "source": [
    "import pandas as pd \n",
    "import numpy as np"
   ]
  },
  {
   "cell_type": "code",
   "execution_count": 2,
   "id": "fc2ee6b7",
   "metadata": {},
   "outputs": [],
   "source": [
    "mov = pd.read_csv('Movie Review And Rating.csv')"
   ]
  },
  {
   "cell_type": "code",
   "execution_count": 3,
   "id": "49aad9b2",
   "metadata": {},
   "outputs": [
    {
     "data": {
      "text/html": [
       "<div>\n",
       "<style scoped>\n",
       "    .dataframe tbody tr th:only-of-type {\n",
       "        vertical-align: middle;\n",
       "    }\n",
       "\n",
       "    .dataframe tbody tr th {\n",
       "        vertical-align: top;\n",
       "    }\n",
       "\n",
       "    .dataframe thead th {\n",
       "        text-align: right;\n",
       "    }\n",
       "</style>\n",
       "<table border=\"1\" class=\"dataframe\">\n",
       "  <thead>\n",
       "    <tr style=\"text-align: right;\">\n",
       "      <th></th>\n",
       "      <th>ID</th>\n",
       "      <th>Movie</th>\n",
       "      <th>Year</th>\n",
       "      <th>Genres</th>\n",
       "      <th>Review</th>\n",
       "      <th>Rating</th>\n",
       "    </tr>\n",
       "  </thead>\n",
       "  <tbody>\n",
       "    <tr>\n",
       "      <th>0</th>\n",
       "      <td>100001</td>\n",
       "      <td>Spider-Man: No Way Home</td>\n",
       "      <td>2021</td>\n",
       "      <td>Action/Adventure</td>\n",
       "      <td>This is by far the best Spider-Man or even Mar...</td>\n",
       "      <td>5</td>\n",
       "    </tr>\n",
       "    <tr>\n",
       "      <th>1</th>\n",
       "      <td>100002</td>\n",
       "      <td>Spider-Man: No Way Home</td>\n",
       "      <td>2021</td>\n",
       "      <td>Action/Adventure</td>\n",
       "      <td>Coming from someone who doesn’t like the previ...</td>\n",
       "      <td>5</td>\n",
       "    </tr>\n",
       "    <tr>\n",
       "      <th>2</th>\n",
       "      <td>100003</td>\n",
       "      <td>Spider-Man: No Way Home</td>\n",
       "      <td>2021</td>\n",
       "      <td>Action/Adventure</td>\n",
       "      <td>Marvel has outdone themselves. This is the qui...</td>\n",
       "      <td>5</td>\n",
       "    </tr>\n",
       "    <tr>\n",
       "      <th>3</th>\n",
       "      <td>100004</td>\n",
       "      <td>Spider-Man: No Way Home</td>\n",
       "      <td>2021</td>\n",
       "      <td>Action/Adventure</td>\n",
       "      <td>Saw this #FDFS at 5am\\nYou beauty Spider-Man\\n...</td>\n",
       "      <td>5</td>\n",
       "    </tr>\n",
       "    <tr>\n",
       "      <th>4</th>\n",
       "      <td>100005</td>\n",
       "      <td>Spider-Man: No Way Home</td>\n",
       "      <td>2021</td>\n",
       "      <td>Action/Adventure</td>\n",
       "      <td>Best in the Spiderman line, and it takes top s...</td>\n",
       "      <td>5</td>\n",
       "    </tr>\n",
       "  </tbody>\n",
       "</table>\n",
       "</div>"
      ],
      "text/plain": [
       "       ID                    Movie  Year            Genres  \\\n",
       "0  100001  Spider-Man: No Way Home  2021  Action/Adventure   \n",
       "1  100002  Spider-Man: No Way Home  2021  Action/Adventure   \n",
       "2  100003  Spider-Man: No Way Home  2021  Action/Adventure   \n",
       "3  100004  Spider-Man: No Way Home  2021  Action/Adventure   \n",
       "4  100005  Spider-Man: No Way Home  2021  Action/Adventure   \n",
       "\n",
       "                                              Review  Rating  \n",
       "0  This is by far the best Spider-Man or even Mar...       5  \n",
       "1  Coming from someone who doesn’t like the previ...       5  \n",
       "2  Marvel has outdone themselves. This is the qui...       5  \n",
       "3  Saw this #FDFS at 5am\\nYou beauty Spider-Man\\n...       5  \n",
       "4  Best in the Spiderman line, and it takes top s...       5  "
      ]
     },
     "execution_count": 3,
     "metadata": {},
     "output_type": "execute_result"
    }
   ],
   "source": [
    "mov.head()"
   ]
  },
  {
   "cell_type": "code",
   "execution_count": 4,
   "id": "74a33350",
   "metadata": {},
   "outputs": [
    {
     "data": {
      "text/plain": [
       "4    214\n",
       "5    207\n",
       "1    201\n",
       "3    193\n",
       "2    185\n",
       "Name: Rating, dtype: int64"
      ]
     },
     "execution_count": 4,
     "metadata": {},
     "output_type": "execute_result"
    }
   ],
   "source": [
    "mov['Rating'].value_counts()"
   ]
  },
  {
   "cell_type": "code",
   "execution_count": 5,
   "id": "b86fc3af",
   "metadata": {},
   "outputs": [],
   "source": [
    "# 3 is neutral rating so remove\n",
    "mov = mov.loc[mov['Rating'] != 3]"
   ]
  },
  {
   "cell_type": "code",
   "execution_count": 6,
   "id": "4d3b97ea",
   "metadata": {},
   "outputs": [],
   "source": [
    "cleanup_nums = {\"Rating\": {2: 0, 1: 0, 5: 1, 4: 1}}"
   ]
  },
  {
   "cell_type": "code",
   "execution_count": 7,
   "id": "8ce66a5c",
   "metadata": {},
   "outputs": [
    {
     "data": {
      "text/html": [
       "<div>\n",
       "<style scoped>\n",
       "    .dataframe tbody tr th:only-of-type {\n",
       "        vertical-align: middle;\n",
       "    }\n",
       "\n",
       "    .dataframe tbody tr th {\n",
       "        vertical-align: top;\n",
       "    }\n",
       "\n",
       "    .dataframe thead th {\n",
       "        text-align: right;\n",
       "    }\n",
       "</style>\n",
       "<table border=\"1\" class=\"dataframe\">\n",
       "  <thead>\n",
       "    <tr style=\"text-align: right;\">\n",
       "      <th></th>\n",
       "      <th>ID</th>\n",
       "      <th>Movie</th>\n",
       "      <th>Year</th>\n",
       "      <th>Genres</th>\n",
       "      <th>Review</th>\n",
       "      <th>Rating</th>\n",
       "    </tr>\n",
       "  </thead>\n",
       "  <tbody>\n",
       "    <tr>\n",
       "      <th>0</th>\n",
       "      <td>100001</td>\n",
       "      <td>Spider-Man: No Way Home</td>\n",
       "      <td>2021</td>\n",
       "      <td>Action/Adventure</td>\n",
       "      <td>This is by far the best Spider-Man or even Mar...</td>\n",
       "      <td>1</td>\n",
       "    </tr>\n",
       "    <tr>\n",
       "      <th>1</th>\n",
       "      <td>100002</td>\n",
       "      <td>Spider-Man: No Way Home</td>\n",
       "      <td>2021</td>\n",
       "      <td>Action/Adventure</td>\n",
       "      <td>Coming from someone who doesn’t like the previ...</td>\n",
       "      <td>1</td>\n",
       "    </tr>\n",
       "    <tr>\n",
       "      <th>2</th>\n",
       "      <td>100003</td>\n",
       "      <td>Spider-Man: No Way Home</td>\n",
       "      <td>2021</td>\n",
       "      <td>Action/Adventure</td>\n",
       "      <td>Marvel has outdone themselves. This is the qui...</td>\n",
       "      <td>1</td>\n",
       "    </tr>\n",
       "    <tr>\n",
       "      <th>3</th>\n",
       "      <td>100004</td>\n",
       "      <td>Spider-Man: No Way Home</td>\n",
       "      <td>2021</td>\n",
       "      <td>Action/Adventure</td>\n",
       "      <td>Saw this #FDFS at 5am\\nYou beauty Spider-Man\\n...</td>\n",
       "      <td>1</td>\n",
       "    </tr>\n",
       "    <tr>\n",
       "      <th>4</th>\n",
       "      <td>100005</td>\n",
       "      <td>Spider-Man: No Way Home</td>\n",
       "      <td>2021</td>\n",
       "      <td>Action/Adventure</td>\n",
       "      <td>Best in the Spiderman line, and it takes top s...</td>\n",
       "      <td>1</td>\n",
       "    </tr>\n",
       "  </tbody>\n",
       "</table>\n",
       "</div>"
      ],
      "text/plain": [
       "       ID                    Movie  Year            Genres  \\\n",
       "0  100001  Spider-Man: No Way Home  2021  Action/Adventure   \n",
       "1  100002  Spider-Man: No Way Home  2021  Action/Adventure   \n",
       "2  100003  Spider-Man: No Way Home  2021  Action/Adventure   \n",
       "3  100004  Spider-Man: No Way Home  2021  Action/Adventure   \n",
       "4  100005  Spider-Man: No Way Home  2021  Action/Adventure   \n",
       "\n",
       "                                              Review  Rating  \n",
       "0  This is by far the best Spider-Man or even Mar...       1  \n",
       "1  Coming from someone who doesn’t like the previ...       1  \n",
       "2  Marvel has outdone themselves. This is the qui...       1  \n",
       "3  Saw this #FDFS at 5am\\nYou beauty Spider-Man\\n...       1  \n",
       "4  Best in the Spiderman line, and it takes top s...       1  "
      ]
     },
     "execution_count": 7,
     "metadata": {},
     "output_type": "execute_result"
    }
   ],
   "source": [
    "mov = mov.replace(cleanup_nums)\n",
    "mov.head()"
   ]
  },
  {
   "cell_type": "code",
   "execution_count": 8,
   "id": "9835c292",
   "metadata": {},
   "outputs": [
    {
     "data": {
      "text/plain": [
       "1    421\n",
       "0    386\n",
       "Name: Rating, dtype: int64"
      ]
     },
     "execution_count": 8,
     "metadata": {},
     "output_type": "execute_result"
    }
   ],
   "source": [
    "mov['Rating'].value_counts()"
   ]
  },
  {
   "cell_type": "code",
   "execution_count": 9,
   "id": "517bc3d8",
   "metadata": {},
   "outputs": [],
   "source": [
    "mov1 = mov[['Review', 'Rating']]"
   ]
  },
  {
   "cell_type": "code",
   "execution_count": 10,
   "id": "56c52c23",
   "metadata": {},
   "outputs": [
    {
     "data": {
      "text/html": [
       "<div>\n",
       "<style scoped>\n",
       "    .dataframe tbody tr th:only-of-type {\n",
       "        vertical-align: middle;\n",
       "    }\n",
       "\n",
       "    .dataframe tbody tr th {\n",
       "        vertical-align: top;\n",
       "    }\n",
       "\n",
       "    .dataframe thead th {\n",
       "        text-align: right;\n",
       "    }\n",
       "</style>\n",
       "<table border=\"1\" class=\"dataframe\">\n",
       "  <thead>\n",
       "    <tr style=\"text-align: right;\">\n",
       "      <th></th>\n",
       "      <th>Review</th>\n",
       "      <th>Rating</th>\n",
       "    </tr>\n",
       "  </thead>\n",
       "  <tbody>\n",
       "    <tr>\n",
       "      <th>0</th>\n",
       "      <td>This is by far the best Spider-Man or even Mar...</td>\n",
       "      <td>1</td>\n",
       "    </tr>\n",
       "    <tr>\n",
       "      <th>1</th>\n",
       "      <td>Coming from someone who doesn’t like the previ...</td>\n",
       "      <td>1</td>\n",
       "    </tr>\n",
       "    <tr>\n",
       "      <th>2</th>\n",
       "      <td>Marvel has outdone themselves. This is the qui...</td>\n",
       "      <td>1</td>\n",
       "    </tr>\n",
       "    <tr>\n",
       "      <th>3</th>\n",
       "      <td>Saw this #FDFS at 5am\\nYou beauty Spider-Man\\n...</td>\n",
       "      <td>1</td>\n",
       "    </tr>\n",
       "    <tr>\n",
       "      <th>4</th>\n",
       "      <td>Best in the Spiderman line, and it takes top s...</td>\n",
       "      <td>1</td>\n",
       "    </tr>\n",
       "    <tr>\n",
       "      <th>...</th>\n",
       "      <td>...</td>\n",
       "      <td>...</td>\n",
       "    </tr>\n",
       "    <tr>\n",
       "      <th>995</th>\n",
       "      <td>it is insulting and the worse movie i have eve...</td>\n",
       "      <td>0</td>\n",
       "    </tr>\n",
       "    <tr>\n",
       "      <th>996</th>\n",
       "      <td>So one sided, so agenda driven by the left it’...</td>\n",
       "      <td>0</td>\n",
       "    </tr>\n",
       "    <tr>\n",
       "      <th>997</th>\n",
       "      <td>It’s a propaganda, not a movie.</td>\n",
       "      <td>0</td>\n",
       "    </tr>\n",
       "    <tr>\n",
       "      <th>998</th>\n",
       "      <td>Boring!</td>\n",
       "      <td>0</td>\n",
       "    </tr>\n",
       "    <tr>\n",
       "      <th>999</th>\n",
       "      <td>Intelligent, brilliant, emotional, touching, s...</td>\n",
       "      <td>1</td>\n",
       "    </tr>\n",
       "  </tbody>\n",
       "</table>\n",
       "<p>807 rows × 2 columns</p>\n",
       "</div>"
      ],
      "text/plain": [
       "                                                Review  Rating\n",
       "0    This is by far the best Spider-Man or even Mar...       1\n",
       "1    Coming from someone who doesn’t like the previ...       1\n",
       "2    Marvel has outdone themselves. This is the qui...       1\n",
       "3    Saw this #FDFS at 5am\\nYou beauty Spider-Man\\n...       1\n",
       "4    Best in the Spiderman line, and it takes top s...       1\n",
       "..                                                 ...     ...\n",
       "995  it is insulting and the worse movie i have eve...       0\n",
       "996  So one sided, so agenda driven by the left it’...       0\n",
       "997                    It’s a propaganda, not a movie.       0\n",
       "998                                            Boring!       0\n",
       "999  Intelligent, brilliant, emotional, touching, s...       1\n",
       "\n",
       "[807 rows x 2 columns]"
      ]
     },
     "execution_count": 10,
     "metadata": {},
     "output_type": "execute_result"
    }
   ],
   "source": [
    "mov1"
   ]
  },
  {
   "cell_type": "code",
   "execution_count": 11,
   "id": "27b4e075",
   "metadata": {},
   "outputs": [],
   "source": [
    "### need to take out short reviews, like review 998 above"
   ]
  },
  {
   "cell_type": "code",
   "execution_count": 12,
   "id": "2adcf294",
   "metadata": {},
   "outputs": [],
   "source": [
    "vals = list(mov1['Review'])\n",
    "rm = []\n",
    "for i in range(len(vals)):\n",
    "    length = len(vals[i].split())\n",
    "    if length <= 25:\n",
    "        rm.append(i)\n",
    "    else:\n",
    "        continue"
   ]
  },
  {
   "cell_type": "code",
   "execution_count": 13,
   "id": "de5b6951",
   "metadata": {},
   "outputs": [
    {
     "data": {
      "text/plain": [
       "62"
      ]
     },
     "execution_count": 13,
     "metadata": {},
     "output_type": "execute_result"
    }
   ],
   "source": [
    "len(rm)"
   ]
  },
  {
   "cell_type": "code",
   "execution_count": 14,
   "id": "01cdf9ad",
   "metadata": {},
   "outputs": [],
   "source": [
    "mov1 = mov1.loc[mov1.index.isin(rm) != True]"
   ]
  },
  {
   "cell_type": "code",
   "execution_count": 15,
   "id": "f7568cdf",
   "metadata": {},
   "outputs": [
    {
     "name": "stderr",
     "output_type": "stream",
     "text": [
      "C:\\Users\\user\\anaconda3\\lib\\site-packages\\pandas\\core\\frame.py:5039: SettingWithCopyWarning: \n",
      "A value is trying to be set on a copy of a slice from a DataFrame\n",
      "\n",
      "See the caveats in the documentation: https://pandas.pydata.org/pandas-docs/stable/user_guide/indexing.html#returning-a-view-versus-a-copy\n",
      "  return super().rename(\n"
     ]
    }
   ],
   "source": [
    "mov1.rename(columns = {'Review': 'text', 'Rating': 'label'}, inplace = True)"
   ]
  },
  {
   "cell_type": "code",
   "execution_count": 16,
   "id": "128f9d38",
   "metadata": {},
   "outputs": [
    {
     "data": {
      "text/html": [
       "<div>\n",
       "<style scoped>\n",
       "    .dataframe tbody tr th:only-of-type {\n",
       "        vertical-align: middle;\n",
       "    }\n",
       "\n",
       "    .dataframe tbody tr th {\n",
       "        vertical-align: top;\n",
       "    }\n",
       "\n",
       "    .dataframe thead th {\n",
       "        text-align: right;\n",
       "    }\n",
       "</style>\n",
       "<table border=\"1\" class=\"dataframe\">\n",
       "  <thead>\n",
       "    <tr style=\"text-align: right;\">\n",
       "      <th></th>\n",
       "      <th>text</th>\n",
       "      <th>label</th>\n",
       "    </tr>\n",
       "  </thead>\n",
       "  <tbody>\n",
       "    <tr>\n",
       "      <th>0</th>\n",
       "      <td>This is by far the best Spider-Man or even Mar...</td>\n",
       "      <td>1</td>\n",
       "    </tr>\n",
       "    <tr>\n",
       "      <th>1</th>\n",
       "      <td>Coming from someone who doesn’t like the previ...</td>\n",
       "      <td>1</td>\n",
       "    </tr>\n",
       "    <tr>\n",
       "      <th>2</th>\n",
       "      <td>Marvel has outdone themselves. This is the qui...</td>\n",
       "      <td>1</td>\n",
       "    </tr>\n",
       "    <tr>\n",
       "      <th>3</th>\n",
       "      <td>Saw this #FDFS at 5am\\nYou beauty Spider-Man\\n...</td>\n",
       "      <td>1</td>\n",
       "    </tr>\n",
       "    <tr>\n",
       "      <th>4</th>\n",
       "      <td>Best in the Spiderman line, and it takes top s...</td>\n",
       "      <td>1</td>\n",
       "    </tr>\n",
       "  </tbody>\n",
       "</table>\n",
       "</div>"
      ],
      "text/plain": [
       "                                                text  label\n",
       "0  This is by far the best Spider-Man or even Mar...      1\n",
       "1  Coming from someone who doesn’t like the previ...      1\n",
       "2  Marvel has outdone themselves. This is the qui...      1\n",
       "3  Saw this #FDFS at 5am\\nYou beauty Spider-Man\\n...      1\n",
       "4  Best in the Spiderman line, and it takes top s...      1"
      ]
     },
     "execution_count": 16,
     "metadata": {},
     "output_type": "execute_result"
    }
   ],
   "source": [
    "mov1.head()"
   ]
  },
  {
   "cell_type": "code",
   "execution_count": 17,
   "id": "0ef8b02a",
   "metadata": {},
   "outputs": [
    {
     "data": {
      "text/plain": [
       "text     object\n",
       "label     int64\n",
       "dtype: object"
      ]
     },
     "execution_count": 17,
     "metadata": {},
     "output_type": "execute_result"
    }
   ],
   "source": [
    "mov1.dtypes"
   ]
  },
  {
   "cell_type": "code",
   "execution_count": 18,
   "id": "c17db37a",
   "metadata": {},
   "outputs": [
    {
     "name": "stderr",
     "output_type": "stream",
     "text": [
      "C:\\Users\\user\\AppData\\Local\\Temp/ipykernel_26148/4071688372.py:1: SettingWithCopyWarning: \n",
      "A value is trying to be set on a copy of a slice from a DataFrame.\n",
      "Try using .loc[row_indexer,col_indexer] = value instead\n",
      "\n",
      "See the caveats in the documentation: https://pandas.pydata.org/pandas-docs/stable/user_guide/indexing.html#returning-a-view-versus-a-copy\n",
      "  mov1['text'] = mov1['text'].astype('string')\n"
     ]
    }
   ],
   "source": [
    "mov1['text'] = mov1['text'].astype('string')"
   ]
  },
  {
   "cell_type": "code",
   "execution_count": 19,
   "id": "6cd2dbe4",
   "metadata": {},
   "outputs": [
    {
     "data": {
      "text/plain": [
       "text     string\n",
       "label     int64\n",
       "dtype: object"
      ]
     },
     "execution_count": 19,
     "metadata": {},
     "output_type": "execute_result"
    }
   ],
   "source": [
    "mov1.dtypes"
   ]
  },
  {
   "cell_type": "code",
   "execution_count": 22,
   "id": "a1f0529a",
   "metadata": {},
   "outputs": [
    {
     "data": {
      "text/plain": [
       "0    This is by far the best Spider-Man or even Mar...\n",
       "1    Coming from someone who doesn’t like the previ...\n",
       "2    Marvel has outdone themselves. This is the qui...\n",
       "Name: text, dtype: string"
      ]
     },
     "execution_count": 22,
     "metadata": {},
     "output_type": "execute_result"
    }
   ],
   "source": [
    "mov1['text'][0:3]"
   ]
  },
  {
   "cell_type": "code",
   "execution_count": 20,
   "id": "87bfb55c",
   "metadata": {},
   "outputs": [],
   "source": [
    "mov1.to_csv('test-break.csv')"
   ]
  }
 ],
 "metadata": {
  "kernelspec": {
   "display_name": "Python 3 (ipykernel)",
   "language": "python",
   "name": "python3"
  },
  "language_info": {
   "codemirror_mode": {
    "name": "ipython",
    "version": 3
   },
   "file_extension": ".py",
   "mimetype": "text/x-python",
   "name": "python",
   "nbconvert_exporter": "python",
   "pygments_lexer": "ipython3",
   "version": "3.8.12"
  }
 },
 "nbformat": 4,
 "nbformat_minor": 5
}
